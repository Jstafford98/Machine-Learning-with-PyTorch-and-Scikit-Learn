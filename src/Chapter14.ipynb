{
 "cells": [
  {
   "cell_type": "markdown",
   "metadata": {},
   "source": [
    "# Imports"
   ]
  },
  {
   "cell_type": "code",
   "execution_count": 1,
   "metadata": {},
   "outputs": [],
   "source": [
    "import torch\n",
    "import numpy as np\n",
    "import pandas as pd\n",
    "import torch.nn as nn\n",
    "import matplotlib.pyplot as plt"
   ]
  },
  {
   "cell_type": "markdown",
   "metadata": {},
   "source": [
    "# Naive 1D Convolution"
   ]
  },
  {
   "cell_type": "code",
   "execution_count": 2,
   "metadata": {},
   "outputs": [
    {
     "data": {
      "text/plain": [
       "array([ 5, 14, 16, 26, 24, 34, 19, 22])"
      ]
     },
     "execution_count": 2,
     "metadata": {},
     "output_type": "execute_result"
    }
   ],
   "source": [
    "def conv_1d(x : list, w : list, p : int = 0, s : int = 1) -> np.array :\n",
    "    \n",
    "    w_rot = np.array(w[::-1])\n",
    "    x_padded = np.array(x)\n",
    "    \n",
    "    if p > 0 :\n",
    "        zero_pad = np.zeros(shape=p)\n",
    "        x_padded = np.concatenate([zero_pad, x_padded, zero_pad])\n",
    "        \n",
    "    res = []\n",
    "    for i in range(0, int((len(x_padded) - len(w_rot))) + 1, s):\n",
    "        res.append(np.sum(x_padded[i:i+w_rot.shape[0]] * w_rot))\n",
    "    return np.array(res)\n",
    "\n",
    "x = [1, 3, 2, 4, 5, 6, 1, 3]\n",
    "w = [1, 0, 3, 1, 2]\n",
    "\n",
    "conv_1d(x, w, 2, 1) # Naive Implementation\n",
    "np.convolve(x, w, mode='same') # Numpy Version"
   ]
  },
  {
   "cell_type": "code",
   "execution_count": 3,
   "metadata": {},
   "outputs": [
    {
     "data": {
      "text/plain": [
       "array([[11, 25, 32, 13],\n",
       "       [19, 25, 24, 13],\n",
       "       [13, 28, 25, 17],\n",
       "       [11, 17, 14,  9]])"
      ]
     },
     "execution_count": 3,
     "metadata": {},
     "output_type": "execute_result"
    }
   ],
   "source": [
    "import scipy.signal\n",
    "\n",
    "def conv_2d(x, w, p=(0,0), s=(1,1)):\n",
    "    \n",
    "    w_rot = np.array(w)[::-1, ::-1]\n",
    "    x_orig = np.array(x)\n",
    "    \n",
    "    n1 = x_orig.shape[0] + 2*p[0]\n",
    "    n2 = x_orig.shape[1] + 2*p[1]\n",
    "    \n",
    "    x_padded = np.zeros(shape=(n1, n2))\n",
    "    x_padded[p[0]:p[0]+x_orig.shape[0], p[1]:p[1]+x_orig.shape[1]] = x_orig\n",
    "    \n",
    "    res = []\n",
    "    \n",
    "    for i in range(0, int((x_padded.shape[0] - w_rot.shape[0]) / s[0]) + 1, s[0]):\n",
    "        res.append([])\n",
    "        for j in range(0, int((x_padded.shape[1] - w_rot.shape[1]) / s[1]) + 1,  s[1]):\n",
    "            x_sub = x_padded[i:i+w_rot.shape[0],j:j+w_rot.shape[1]]\n",
    "            res[-1].append(np.sum(x_sub * w_rot))\n",
    "            \n",
    "    return np.array(res)\n",
    "\n",
    "x = [\n",
    "    [1, 3, 2, 4],\n",
    "    [5, 6, 1, 3],\n",
    "    [1, 2, 0, 2],\n",
    "    [3, 4, 3, 2]\n",
    "]\n",
    "\n",
    "w = [\n",
    "    [1, 0, 3],\n",
    "    [1, 2, 1],\n",
    "    [0, 1, 1]\n",
    "]\n",
    "conv_2d(x, w, (1,1), (1,1))\n",
    "scipy.signal.convolve2d(x, w, 'same')"
   ]
  },
  {
   "cell_type": "code",
   "execution_count": null,
   "metadata": {},
   "outputs": [],
   "source": []
  }
 ],
 "metadata": {
  "kernelspec": {
   "display_name": "Python 3",
   "language": "python",
   "name": "python3"
  },
  "language_info": {
   "codemirror_mode": {
    "name": "ipython",
    "version": 3
   },
   "file_extension": ".py",
   "mimetype": "text/x-python",
   "name": "python",
   "nbconvert_exporter": "python",
   "pygments_lexer": "ipython3",
   "version": "3.11.1"
  }
 },
 "nbformat": 4,
 "nbformat_minor": 2
}
