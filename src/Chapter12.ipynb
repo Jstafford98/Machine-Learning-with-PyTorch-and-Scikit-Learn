{
 "cells": [
  {
   "cell_type": "markdown",
   "metadata": {},
   "source": [
    "# Imports"
   ]
  },
  {
   "cell_type": "code",
   "execution_count": 1,
   "metadata": {},
   "outputs": [],
   "source": [
    "import torch\n",
    "import numpy as np\n",
    "\n",
    "np.set_printoptions(precision=3)"
   ]
  },
  {
   "cell_type": "markdown",
   "metadata": {},
   "source": [
    "# Introduction to PyTorch"
   ]
  },
  {
   "cell_type": "markdown",
   "metadata": {},
   "source": [
    "## Creating Tensors"
   ]
  },
  {
   "cell_type": "code",
   "execution_count": 2,
   "metadata": {},
   "outputs": [
    {
     "name": "stdout",
     "output_type": "stream",
     "text": [
      "tensor([1, 2, 3])\n",
      "tensor([4, 5, 6], dtype=torch.int32)\n"
     ]
    }
   ],
   "source": [
    "a = [1, 2, 3]\n",
    "b = np.array([4, 5, 6], dtype=np.int32)\n",
    "\n",
    "t_a = torch.tensor(a)\n",
    "t_b = torch.tensor(b)\n",
    "\n",
    "print(t_a)\n",
    "print(t_b)"
   ]
  },
  {
   "cell_type": "code",
   "execution_count": 4,
   "metadata": {},
   "outputs": [
    {
     "name": "stdout",
     "output_type": "stream",
     "text": [
      "torch.Size([2, 3])\n",
      "tensor([[1., 1., 1.],\n",
      "        [1., 1., 1.]])\n"
     ]
    }
   ],
   "source": [
    "t_ones = torch.ones(2, 3)\n",
    "print(t_ones.shape)\n",
    "print(t_ones)"
   ]
  },
  {
   "cell_type": "code",
   "execution_count": 5,
   "metadata": {},
   "outputs": [
    {
     "name": "stdout",
     "output_type": "stream",
     "text": [
      "tensor([[0.0034, 0.7942, 0.1764],\n",
      "        [0.6868, 0.8452, 0.3129]])\n"
     ]
    }
   ],
   "source": [
    "rand_tensor = torch.rand(2, 3)\n",
    "print(rand_tensor)"
   ]
  },
  {
   "cell_type": "markdown",
   "metadata": {},
   "source": [
    "## Manipulating Data Types and Shape"
   ]
  },
  {
   "cell_type": "code",
   "execution_count": 6,
   "metadata": {},
   "outputs": [
    {
     "name": "stdout",
     "output_type": "stream",
     "text": [
      "torch.int64\n"
     ]
    }
   ],
   "source": [
    "t_a_new = t_a.to(torch.int64)\n",
    "print(t_a_new.dtype)"
   ]
  },
  {
   "cell_type": "markdown",
   "metadata": {},
   "source": [
    "### Transposing a Tensor"
   ]
  },
  {
   "cell_type": "code",
   "execution_count": 8,
   "metadata": {},
   "outputs": [
    {
     "name": "stdout",
     "output_type": "stream",
     "text": [
      "torch.Size([3, 5])  -->  torch.Size([5, 3])\n"
     ]
    }
   ],
   "source": [
    "t = torch.rand(3, 5)\n",
    "t_tr = torch.transpose(t, 0, 1)\n",
    "\n",
    "print(t.shape, ' --> ', t_tr.shape)"
   ]
  },
  {
   "cell_type": "markdown",
   "metadata": {},
   "source": [
    "### Reshaping a Tensor"
   ]
  },
  {
   "cell_type": "code",
   "execution_count": 11,
   "metadata": {},
   "outputs": [
    {
     "name": "stdout",
     "output_type": "stream",
     "text": [
      "torch.Size([30])  -->  torch.Size([5, 6])\n"
     ]
    }
   ],
   "source": [
    "t = torch.zeros(30)\n",
    "t_reshape = t.reshape(5, 6)\n",
    "print(t.shape, ' --> ', t_reshape.shape)"
   ]
  },
  {
   "cell_type": "markdown",
   "metadata": {},
   "source": [
    "### Removing Dimensions (In this case, dimensions that have a size of 1)"
   ]
  },
  {
   "cell_type": "code",
   "execution_count": 14,
   "metadata": {},
   "outputs": [
    {
     "name": "stdout",
     "output_type": "stream",
     "text": [
      "torch.Size([1, 2, 1, 4, 1])  -->  torch.Size([1, 2, 4, 1])\n"
     ]
    }
   ],
   "source": [
    "t = torch.zeros(1, 2, 1, 4, 1)\n",
    "t_sqz = torch.squeeze(t, 2)\n",
    "\n",
    "print(t.shape, ' --> ', t_sqz.shape)"
   ]
  },
  {
   "cell_type": "markdown",
   "metadata": {},
   "source": [
    "## Applying Mathematical Operations to Tensors"
   ]
  },
  {
   "cell_type": "code",
   "execution_count": 16,
   "metadata": {},
   "outputs": [
    {
     "name": "stdout",
     "output_type": "stream",
     "text": [
      "tensor([[ 0.4426, -0.3114],\n",
      "        [ 0.0660, -0.5970],\n",
      "        [ 1.1249,  0.0150],\n",
      "        [ 0.1569,  0.7107],\n",
      "        [-0.0451, -0.0352]])\n"
     ]
    }
   ],
   "source": [
    "torch.manual_seed(1)\n",
    "\n",
    "t1 = 2 * torch.rand(5, 2) - 1 # torch.rand returns a tensor with rand nums from a uniform distribution in range of 0 to 1\n",
    "t2 = torch.normal(mean=0, std=1, size=(5, 2))\n",
    "t3 = torch.multiply(t1, t2)\n",
    "print(t3)"
   ]
  },
  {
   "cell_type": "code",
   "execution_count": 17,
   "metadata": {},
   "outputs": [
    {
     "name": "stdout",
     "output_type": "stream",
     "text": [
      "tensor([-0.1373,  0.2028])\n"
     ]
    }
   ],
   "source": [
    "t4 = torch.mean(t1, axis=0)\n",
    "print(t4)"
   ]
  },
  {
   "cell_type": "code",
   "execution_count": 19,
   "metadata": {},
   "outputs": [
    {
     "name": "stdout",
     "output_type": "stream",
     "text": [
      "tensor([[ 0.1312,  0.3860, -0.6267, -1.0096, -0.2943],\n",
      "        [ 0.1647, -0.5310,  0.2434,  0.8035,  0.1980],\n",
      "        [-0.3855, -0.4422,  1.1399,  1.5558,  0.4781],\n",
      "        [ 0.1822, -0.5771,  0.2585,  0.8676,  0.2132],\n",
      "        [ 0.0330,  0.1084, -0.1692, -0.2771, -0.0804]])\n"
     ]
    }
   ],
   "source": [
    "''' Matrix * Matrix Multiplication '''\n",
    "t5 = torch.matmul(t1, torch.transpose(t2, 0, 1))\n",
    "print(t5)"
   ]
  },
  {
   "cell_type": "code",
   "execution_count": 20,
   "metadata": {},
   "outputs": [
    {
     "name": "stdout",
     "output_type": "stream",
     "text": [
      "tensor([[ 1.7453,  0.3392],\n",
      "        [-1.6038, -0.2180]])\n"
     ]
    }
   ],
   "source": [
    "t6 = torch.matmul(torch.transpose(t1, 0, 1), t2)\n",
    "print(t6)"
   ]
  },
  {
   "cell_type": "code",
   "execution_count": 21,
   "metadata": {},
   "outputs": [
    {
     "name": "stdout",
     "output_type": "stream",
     "text": [
      "tensor([0.6785, 0.5078, 1.1162, 0.5488, 0.1853])\n"
     ]
    }
   ],
   "source": [
    "norm_t1 = torch.linalg.norm(t1, ord=2, dim=1)\n",
    "print(norm_t1)"
   ]
  },
  {
   "cell_type": "code",
   "execution_count": 25,
   "metadata": {},
   "outputs": [],
   "source": [
    "''' verify torch.linalg.norm computes L2 Norm of t1 correctly '''\n",
    "assert np.all(np.sqrt(np.sum(np.square(t1.numpy()),axis=1)) == norm_t1.numpy())"
   ]
  },
  {
   "cell_type": "code",
   "execution_count": null,
   "metadata": {},
   "outputs": [],
   "source": []
  }
 ],
 "metadata": {
  "kernelspec": {
   "display_name": "Python 3",
   "language": "python",
   "name": "python3"
  },
  "language_info": {
   "codemirror_mode": {
    "name": "ipython",
    "version": 3
   },
   "file_extension": ".py",
   "mimetype": "text/x-python",
   "name": "python",
   "nbconvert_exporter": "python",
   "pygments_lexer": "ipython3",
   "version": "3.11.1"
  }
 },
 "nbformat": 4,
 "nbformat_minor": 2
}
